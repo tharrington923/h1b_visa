{
 "cells": [
  {
   "cell_type": "markdown",
   "metadata": {},
   "source": [
    "# H1B-Visa Exploration\n",
    "## Thomas Harrington"
   ]
  },
  {
   "cell_type": "markdown",
   "metadata": {},
   "source": [
    "#### In this notebook, we investigate the H-1B visa application data for 2014."
   ]
  },
  {
   "cell_type": "markdown",
   "metadata": {},
   "source": [
    "### Importing the necessary packages"
   ]
  },
  {
   "cell_type": "code",
   "execution_count": 1,
   "metadata": {
    "collapsed": false
   },
   "outputs": [],
   "source": [
    "import pandas as pd\n",
    "import numpy as np\n",
    "import difflib\n",
    "import re\n",
    "\n",
    "import matplotlib.pyplot as plt\n",
    "\n",
    "from collections import Counter\n",
    "import itertools\n",
    "\n",
    "from scipy import stats\n",
    "\n",
    "from sklearn.model_selection import train_test_split, GridSearchCV\n",
    "from sklearn.linear_model import LogisticRegression\n",
    "from sklearn.metrics import roc_auc_score, confusion_matrix, roc_curve, auc\n",
    "#from sklearn.cross_validation import StratifiedKFold\n",
    "from sklearn.model_selection import StratifiedKFold\n",
    "\n",
    "#Jupyter notebook specific \n",
    "from IPython.core.display import display, HTML\n",
    "%matplotlib inline"
   ]
  },
  {
   "cell_type": "markdown",
   "metadata": {},
   "source": [
    "Let's load the data into a Pandas DataFrame and look at the head to begin exploring the data."
   ]
  },
  {
   "cell_type": "code",
   "execution_count": 2,
   "metadata": {
    "collapsed": true
   },
   "outputs": [],
   "source": [
    "df_data = pd.read_csv('db246968-e567-442f-8108-b86a280107d3.csv')"
   ]
  },
  {
   "cell_type": "code",
   "execution_count": 3,
   "metadata": {
    "collapsed": false
   },
   "outputs": [
    {
     "data": {
      "text/html": [
       "<div>\n",
       "<table border=\"1\" class=\"dataframe\">\n",
       "  <thead>\n",
       "    <tr style=\"text-align: right;\">\n",
       "      <th></th>\n",
       "      <th>lca_case_number</th>\n",
       "      <th>status</th>\n",
       "      <th>lca_case_submit</th>\n",
       "      <th>decision_date</th>\n",
       "      <th>visa_class</th>\n",
       "      <th>lca_case_employment_start_date</th>\n",
       "      <th>lca_case_employment_end_date</th>\n",
       "      <th>lca_case_employer_name</th>\n",
       "      <th>lca_case_employer_address</th>\n",
       "      <th>lca_case_employer_city</th>\n",
       "      <th>...</th>\n",
       "      <th>other_wage_source_1</th>\n",
       "      <th>yr_source_pub_1</th>\n",
       "      <th>lca_case_workloc2_city</th>\n",
       "      <th>lca_case_workloc2_state</th>\n",
       "      <th>pw_2</th>\n",
       "      <th>pw_unit_2</th>\n",
       "      <th>pw_source_2</th>\n",
       "      <th>other_wage_source_2</th>\n",
       "      <th>yr_source_pub_2</th>\n",
       "      <th>lca_case_naics_code</th>\n",
       "    </tr>\n",
       "  </thead>\n",
       "  <tbody>\n",
       "    <tr>\n",
       "      <th>0</th>\n",
       "      <td>I-200-09106-546545</td>\n",
       "      <td>CERTIFIED-WITHDRAWN</td>\n",
       "      <td>2013-01-18</td>\n",
       "      <td>2014-09-29</td>\n",
       "      <td>H-1B</td>\n",
       "      <td>2013-02-01</td>\n",
       "      <td>2016-02-01</td>\n",
       "      <td>TEXAS STATE UNIVERSITY-SAN MARCOS</td>\n",
       "      <td>601 UNIVERSITY DRIVE</td>\n",
       "      <td>SAN MARCOS</td>\n",
       "      <td>...</td>\n",
       "      <td>OFLC ONLINE DATA CENTER</td>\n",
       "      <td>2013.0</td>\n",
       "      <td>ST. LOUIS</td>\n",
       "      <td>MO</td>\n",
       "      <td>49566.0</td>\n",
       "      <td>Year</td>\n",
       "      <td>OES</td>\n",
       "      <td>OFLC ONLINE DATA CENTER</td>\n",
       "      <td>OFLC ONLINE DATA CENTER</td>\n",
       "      <td>611310.0</td>\n",
       "    </tr>\n",
       "    <tr>\n",
       "      <th>1</th>\n",
       "      <td>I-200-09162-143337</td>\n",
       "      <td>CERTIFIED</td>\n",
       "      <td>2014-03-17</td>\n",
       "      <td>2014-03-21</td>\n",
       "      <td>H-1B</td>\n",
       "      <td>2014-09-15</td>\n",
       "      <td>2017-09-15</td>\n",
       "      <td>EYE SPECIALISTS OF INDIANA, P.C.</td>\n",
       "      <td>1901 N. MERIDIAN ST.</td>\n",
       "      <td>INDIANAPOLIS</td>\n",
       "      <td>...</td>\n",
       "      <td>OFLC ONLINE DATA CENTER</td>\n",
       "      <td>2013.0</td>\n",
       "      <td>INDIANAPOLIS</td>\n",
       "      <td>IN</td>\n",
       "      <td>64251.0</td>\n",
       "      <td>Year</td>\n",
       "      <td>Other</td>\n",
       "      <td>OFLC ONLINE DATA CENTER</td>\n",
       "      <td>OFLC ONLINE DATA CENTER</td>\n",
       "      <td>621320.0</td>\n",
       "    </tr>\n",
       "    <tr>\n",
       "      <th>2</th>\n",
       "      <td>I-200-09182-550211</td>\n",
       "      <td>DENIED</td>\n",
       "      <td>2014-03-14</td>\n",
       "      <td>2014-03-20</td>\n",
       "      <td>H-1B</td>\n",
       "      <td>2014-04-01</td>\n",
       "      <td>2015-04-01</td>\n",
       "      <td>LHB, INC.</td>\n",
       "      <td>21 WEST SUPERIOR STREET</td>\n",
       "      <td>DULUTH</td>\n",
       "      <td>...</td>\n",
       "      <td>OFLIC ONLINE</td>\n",
       "      <td>2014.0</td>\n",
       "      <td>NaN</td>\n",
       "      <td>NaN</td>\n",
       "      <td>NaN</td>\n",
       "      <td>NaN</td>\n",
       "      <td>NaN</td>\n",
       "      <td>NaN</td>\n",
       "      <td>NaN</td>\n",
       "      <td>541330.0</td>\n",
       "    </tr>\n",
       "    <tr>\n",
       "      <th>3</th>\n",
       "      <td>I-200-09193-873099</td>\n",
       "      <td>CERTIFIED</td>\n",
       "      <td>2014-03-01</td>\n",
       "      <td>2014-03-06</td>\n",
       "      <td>H-1B</td>\n",
       "      <td>2014-08-28</td>\n",
       "      <td>2017-08-27</td>\n",
       "      <td>WAM USA, INC.</td>\n",
       "      <td>75 BOULDERBROOK CIRCLE</td>\n",
       "      <td>LAWRENCEVILLE</td>\n",
       "      <td>...</td>\n",
       "      <td>OFLC ONLINE DATA CENTER</td>\n",
       "      <td>2014.0</td>\n",
       "      <td>NaN</td>\n",
       "      <td>NaN</td>\n",
       "      <td>NaN</td>\n",
       "      <td>NaN</td>\n",
       "      <td>NaN</td>\n",
       "      <td>NaN</td>\n",
       "      <td>NaN</td>\n",
       "      <td>333922.0</td>\n",
       "    </tr>\n",
       "    <tr>\n",
       "      <th>4</th>\n",
       "      <td>I-200-09197-120609</td>\n",
       "      <td>CERTIFIED-WITHDRAWN</td>\n",
       "      <td>2014-03-10</td>\n",
       "      <td>2014-03-17</td>\n",
       "      <td>H-1B</td>\n",
       "      <td>2014-09-01</td>\n",
       "      <td>2017-09-01</td>\n",
       "      <td>DFUSE TECHNOLOGIES, INC.</td>\n",
       "      <td>20143 DESERT FOREST DRIVE</td>\n",
       "      <td>ASHBURN</td>\n",
       "      <td>...</td>\n",
       "      <td>OFLC ONLINE DATA CENTER</td>\n",
       "      <td>2013.0</td>\n",
       "      <td>NaN</td>\n",
       "      <td>NaN</td>\n",
       "      <td>NaN</td>\n",
       "      <td>NaN</td>\n",
       "      <td>NaN</td>\n",
       "      <td>NaN</td>\n",
       "      <td>NaN</td>\n",
       "      <td>541519.0</td>\n",
       "    </tr>\n",
       "  </tbody>\n",
       "</table>\n",
       "<p>5 rows × 35 columns</p>\n",
       "</div>"
      ],
      "text/plain": [
       "      lca_case_number               status lca_case_submit decision_date  \\\n",
       "0  I-200-09106-546545  CERTIFIED-WITHDRAWN      2013-01-18    2014-09-29   \n",
       "1  I-200-09162-143337            CERTIFIED      2014-03-17    2014-03-21   \n",
       "2  I-200-09182-550211               DENIED      2014-03-14    2014-03-20   \n",
       "3  I-200-09193-873099            CERTIFIED      2014-03-01    2014-03-06   \n",
       "4  I-200-09197-120609  CERTIFIED-WITHDRAWN      2014-03-10    2014-03-17   \n",
       "\n",
       "  visa_class lca_case_employment_start_date lca_case_employment_end_date  \\\n",
       "0       H-1B                     2013-02-01                   2016-02-01   \n",
       "1       H-1B                     2014-09-15                   2017-09-15   \n",
       "2       H-1B                     2014-04-01                   2015-04-01   \n",
       "3       H-1B                     2014-08-28                   2017-08-27   \n",
       "4       H-1B                     2014-09-01                   2017-09-01   \n",
       "\n",
       "              lca_case_employer_name  lca_case_employer_address  \\\n",
       "0  TEXAS STATE UNIVERSITY-SAN MARCOS       601 UNIVERSITY DRIVE   \n",
       "1   EYE SPECIALISTS OF INDIANA, P.C.       1901 N. MERIDIAN ST.   \n",
       "2                          LHB, INC.    21 WEST SUPERIOR STREET   \n",
       "3                      WAM USA, INC.     75 BOULDERBROOK CIRCLE   \n",
       "4           DFUSE TECHNOLOGIES, INC.  20143 DESERT FOREST DRIVE   \n",
       "\n",
       "  lca_case_employer_city         ...               other_wage_source_1  \\\n",
       "0             SAN MARCOS         ...           OFLC ONLINE DATA CENTER   \n",
       "1           INDIANAPOLIS         ...           OFLC ONLINE DATA CENTER   \n",
       "2                 DULUTH         ...                      OFLIC ONLINE   \n",
       "3          LAWRENCEVILLE         ...           OFLC ONLINE DATA CENTER   \n",
       "4                ASHBURN         ...           OFLC ONLINE DATA CENTER   \n",
       "\n",
       "  yr_source_pub_1 lca_case_workloc2_city lca_case_workloc2_state     pw_2  \\\n",
       "0          2013.0              ST. LOUIS                      MO  49566.0   \n",
       "1          2013.0           INDIANAPOLIS                      IN  64251.0   \n",
       "2          2014.0                    NaN                     NaN      NaN   \n",
       "3          2014.0                    NaN                     NaN      NaN   \n",
       "4          2013.0                    NaN                     NaN      NaN   \n",
       "\n",
       "   pw_unit_2  pw_source_2      other_wage_source_2          yr_source_pub_2  \\\n",
       "0       Year          OES  OFLC ONLINE DATA CENTER  OFLC ONLINE DATA CENTER   \n",
       "1       Year        Other  OFLC ONLINE DATA CENTER  OFLC ONLINE DATA CENTER   \n",
       "2        NaN          NaN                      NaN                      NaN   \n",
       "3        NaN          NaN                      NaN                      NaN   \n",
       "4        NaN          NaN                      NaN                      NaN   \n",
       "\n",
       "   lca_case_naics_code  \n",
       "0             611310.0  \n",
       "1             621320.0  \n",
       "2             541330.0  \n",
       "3             333922.0  \n",
       "4             541519.0  \n",
       "\n",
       "[5 rows x 35 columns]"
      ]
     },
     "execution_count": 3,
     "metadata": {},
     "output_type": "execute_result"
    }
   ],
   "source": [
    "df_data.head()"
   ]
  },
  {
   "cell_type": "code",
   "execution_count": 4,
   "metadata": {
    "collapsed": false
   },
   "outputs": [
    {
     "name": "stdout",
     "output_type": "stream",
     "text": [
      "There are 517435 visa applications in this dataset.\n"
     ]
    }
   ],
   "source": [
    "print('There are {:.0f} visa applications in this dataset.'.format(df_data.shape[0]))"
   ]
  },
  {
   "cell_type": "markdown",
   "metadata": {},
   "source": [
    "There are many columns contained in the data. We could use df_data.head() to see the names of all the columns. Let's first check if the data consists entirely of H-1B visas by looking at the values and counts."
   ]
  },
  {
   "cell_type": "code",
   "execution_count": 5,
   "metadata": {
    "collapsed": false
   },
   "outputs": [
    {
     "data": {
      "text/plain": [
       "H-1B               506650\n",
       "E-3 Australian       9409\n",
       "H-1B1 Singapore       821\n",
       "H-1B1 Chile           555\n",
       "Name: visa_class, dtype: int64"
      ]
     },
     "execution_count": 5,
     "metadata": {},
     "output_type": "execute_result"
    }
   ],
   "source": [
    "df_data.visa_class.value_counts()"
   ]
  },
  {
   "cell_type": "markdown",
   "metadata": {},
   "source": [
    "A majority of the visa_class values are H-1B as expected. The visas from Singapore, Chile, and Australia have their own categories. We will be investigating the H-1B visas in NYC and Mountain view, so we can focus on the data where visa_class is equal to 'H-1B'. Let's create a df with just the H-1B visas."
   ]
  },
  {
   "cell_type": "code",
   "execution_count": 6,
   "metadata": {
    "collapsed": false
   },
   "outputs": [],
   "source": [
    "df_h1b = df_data[df_data.visa_class=='H-1B'].drop('visa_class',axis=1)"
   ]
  },
  {
   "cell_type": "markdown",
   "metadata": {},
   "source": [
    "## Section 1: Investigating the Data\n",
    "\n",
    "### Question 1: Which companies applied for the largest number of H-1B visas where the job opening was located in NYC?"
   ]
  },
  {
   "cell_type": "markdown",
   "metadata": {},
   "source": [
    "Now, we want to get the data for visas where the job opening was located in NYC. We will start first by creating a DataFrame where the work location state (the lca_case_workloc1_state field) is NY."
   ]
  },
  {
   "cell_type": "code",
   "execution_count": 7,
   "metadata": {
    "collapsed": false
   },
   "outputs": [
    {
     "name": "stdout",
     "output_type": "stream",
     "text": [
      "There are 48039 visa applications for jobs located in NY in this dataset.\n"
     ]
    }
   ],
   "source": [
    "df_h1b_ny = df_h1b[map(lambda x: x[1].lca_case_workloc1_state=='NY'\n",
    "                       or x[1].lca_case_workloc2_state=='NY',\n",
    "                       df_h1b.iterrows())]\n",
    "print('There are {:.0f} visa applications for jobs located in NY in this dataset.'.format(df_h1b_ny.shape[0]))"
   ]
  },
  {
   "cell_type": "markdown",
   "metadata": {},
   "source": [
    "Let's get an idea of the values for the lca_case_workloc1_city field. We want to filter out the jobs that are located in NYC. NYC has five boroughs so there are a number of ways the city could be specified to refer to NYC. After looking at the possible values, a list of cities refering to NYC was created and then a DataFrame consisting of jobs located in NYC was created. This list is not exhaustive. Given the time constraint, the list of cities was quickly produced by looking through a list of the unique city entries. Also, it was built after filtering through the dataset and only taking states that match 'NY'. There is a chance that there are entries where the state was mispelt, but those haven't been searched for within the dataset. "
   ]
  },
  {
   "cell_type": "code",
   "execution_count": 8,
   "metadata": {
    "collapsed": false,
    "scrolled": true
   },
   "outputs": [],
   "source": [
    "ny_cities_list = sorted(df_h1b_ny.lca_case_workloc1_city.unique())"
   ]
  },
  {
   "cell_type": "code",
   "execution_count": 9,
   "metadata": {
    "collapsed": false
   },
   "outputs": [],
   "source": [
    "nyc_names = ['NEW YORK',\n",
    "             'BRONX',\n",
    "             'BRONX, NEW YORK',\n",
    "             'BRONX,NEW YORK',\n",
    "             'BRONX,NY',\n",
    "             'BRONX.NEW YORK',\n",
    "             'BROOKLN',\n",
    "             'BROOKLY',\n",
    "             'BROOKLYN',\n",
    "             'BROOKLYN,',\n",
    "             'BROOKYLN',\n",
    "             'BROOKYN',\n",
    "             'NEW YORK CITY',\n",
    "             'LONG IS CITY',\n",
    "             'LONG ISLAD CITY',\n",
    "             'LONG ISLAND',\n",
    "             'LONG ISLAND CITY',\n",
    "             'LONG ISLAND CITY,',\n",
    "             'LONG ISLAND CITY, QUEENS',\n",
    "             'LONG ISLAND CTY',\n",
    "             'LONG ISLANDY CITY',\n",
    "             'LONGISLAND CITY',\n",
    "             'QUEENS',\n",
    "             'MANHATTAN',\n",
    "             'MANHATAN',\n",
    "             'MANHATTAN',\n",
    "             'MANHATTAN, NEW YORK',\n",
    "             'METRO NEW YORK',\n",
    "             'NYC',\n",
    "             'NEW YOK',\n",
    "             'NEW YORK',\n",
    "             'NEW YORK CITY',\n",
    "             'NEW YORK CITY,',\n",
    "             'NEW YORK,',\n",
    "             'NEW YORK, 10003',\n",
    "             'NEW YORK, NEW YORK',\n",
    "             'NEW YORK, NY',\n",
    "             'NEW YORK, NY -',\n",
    "             'NEW YORK,NEW YORK',\n",
    "             'NEW YOUR',\n",
    "             'NEW YOURK',\n",
    "             'NEW YROK',\n",
    "             'NY']\n",
    "df_h1b_nyc = df_h1b[map(lambda x: x[1].lca_case_workloc1_city in nyc_names\n",
    "                        or x[1].lca_case_workloc2_state in nyc_names,\n",
    "                        df_h1b.iterrows())]"
   ]
  },
  {
   "cell_type": "markdown",
   "metadata": {},
   "source": [
    "The df_h1b_nyc DataFrame contains all of the H-1B visa data where either the workloc1 or workloc2 field was one of the strings in the list above. We can use a value_counts on the lca_case_employer_name field to see the number of companies. Here I have chosen to list the top 10 companies."
   ]
  },
  {
   "cell_type": "code",
   "execution_count": 10,
   "metadata": {
    "collapsed": false
   },
   "outputs": [
    {
     "data": {
      "text/plain": [
       "ERNST & YOUNG U.S. LLP                1120\n",
       "DELOITTE CONSULTING LLP                598\n",
       "JPMORGAN CHASE & CO.                   564\n",
       "TATA CONSULTANCY SERVICES LIMITED      478\n",
       "INFOSYS LIMITED                        470\n",
       "MORGAN STANLEY & CO. LLC               427\n",
       "GOLDMAN, SACHS & CO.                   385\n",
       "BLOOMBERG, LP                          333\n",
       "CREDIT SUISSE SECURITIES (USA) LLC     286\n",
       "CITIBANK, N.A.                         285\n",
       "Name: lca_case_employer_name, dtype: int64"
      ]
     },
     "execution_count": 10,
     "metadata": {},
     "output_type": "execute_result"
    }
   ],
   "source": [
    "df_h1b_nyc.lca_case_employer_name.value_counts()[:10]"
   ]
  },
  {
   "cell_type": "markdown",
   "metadata": {},
   "source": [
    "<div class=\"alert alert-block alert-success\">\n",
    "<h4>\n",
    "We can see that 'ERNST & YOUNG U.S. LLP' applied for the largest number of H-1B visas for jobs located in NYC. \n",
    "<br><br>\n",
    "We have to be careful about using counts on unique strings because there are many ways that the strings representing the same company could be written. For example, 'JPMORGAN CHASE & CO.' appears in multiple different ways as seen below. If we count all of appearances in its various forms, we see that 'JPMORGAN CHASE & CO.' is actually in second place with 625 applications unless 'DELOITTE & TOUCHE LLP' or similar companies including 'DELOITTE' are all part of 'DELOITTE CONSULTING LLP'\n",
    "\n",
    "</h4>\n",
    "</div>"
   ]
  },
  {
   "cell_type": "code",
   "execution_count": 11,
   "metadata": {
    "collapsed": false
   },
   "outputs": [
    {
     "data": {
      "text/plain": [
       "JPMORGAN CHASE & CO.        564\n",
       "JPMORGAN CHASE &AMP; CO.     49\n",
       "JPMORGAN CHASE & CO          10\n",
       "JPMORGAN CHASE CO.            1\n",
       "JPMORGAN CHASE &CO.           1\n",
       "Name: lca_case_employer_name, dtype: int64"
      ]
     },
     "execution_count": 11,
     "metadata": {},
     "output_type": "execute_result"
    }
   ],
   "source": [
    "df_h1b_nyc[map(lambda x: ('JP' in x[1].lca_case_employer_name and 'CHASE' in x[1].lca_case_employer_name),\n",
    "               df_h1b_nyc.iterrows())].lca_case_employer_name.value_counts()"
   ]
  },
  {
   "cell_type": "code",
   "execution_count": 12,
   "metadata": {
    "collapsed": false
   },
   "outputs": [
    {
     "data": {
      "text/plain": [
       "625"
      ]
     },
     "execution_count": 12,
     "metadata": {},
     "output_type": "execute_result"
    }
   ],
   "source": [
    "sum(df_h1b_nyc[map(lambda x: ('JP' in x[1].lca_case_employer_name and 'CHASE' in x[1].lca_case_employer_name),\n",
    "               df_h1b_nyc.iterrows())].lca_case_employer_name.value_counts())"
   ]
  },
  {
   "cell_type": "code",
   "execution_count": 13,
   "metadata": {
    "collapsed": false
   },
   "outputs": [
    {
     "data": {
      "text/plain": [
       "DELOITTE CONSULTING LLP                             598\n",
       "DELOITTE & TOUCHE LLP                               178\n",
       "DELOITTE TAX LLP                                     41\n",
       "DELOITTE TRANSACTIONS AND BUSINESS ANALYTICS LLP     31\n",
       "DELOITTE &AMP; TOUCHE LLP                            24\n",
       "DELOITTE LLP                                          9\n",
       "DELOITTE FINANCIAL ADVISORY SERVICES LLP              8\n",
       "DELOITTE ANALYTICS LLC                                2\n",
       "DELOITTE CONSULTING OVERSEAS PROJECTS LLC             1\n",
       "DELOITTE TOUCHE LLP                                   1\n",
       "DELOITTE CORPORATE FINANCE LLC                        1\n",
       "DELOITTE TOUCHE TOHMATSU SERVICES, INC.               1\n",
       "DELOITTE &TOUCHE LLP                                  1\n",
       "DELOITTE SERVICES LP                                  1\n",
       "Name: lca_case_employer_name, dtype: int64"
      ]
     },
     "execution_count": 13,
     "metadata": {},
     "output_type": "execute_result"
    }
   ],
   "source": [
    "df_h1b_nyc[map(lambda x: 'DELOITTE' in x[1].lca_case_employer_name,\n",
    "               df_h1b_nyc.iterrows())].lca_case_employer_name.value_counts()"
   ]
  },
  {
   "cell_type": "markdown",
   "metadata": {},
   "source": [
    "### Calculating the mean and standard deviation of wages proposed for workers located in New York City and Mountain View. Are the average wages in these two locations statistically different? If so, what factors could explain the results?"
   ]
  },
  {
   "cell_type": "markdown",
   "metadata": {},
   "source": [
    "#### New York City"
   ]
  },
  {
   "cell_type": "markdown",
   "metadata": {},
   "source": [
    "We already have the NYC data ready to compute the mean and standard deviation of wages. First, let's investigate the wages (pw_1 field)."
   ]
  },
  {
   "cell_type": "code",
   "execution_count": 14,
   "metadata": {
    "collapsed": false
   },
   "outputs": [
    {
     "data": {
      "text/plain": [
       "count    3.684000e+04\n",
       "mean     8.675021e+04\n",
       "std      3.214249e+06\n",
       "min      9.000000e+00\n",
       "25%      5.341400e+04\n",
       "50%      6.712200e+04\n",
       "75%      8.937800e+04\n",
       "max      6.169317e+08\n",
       "Name: pw_1, dtype: float64"
      ]
     },
     "execution_count": 14,
     "metadata": {},
     "output_type": "execute_result"
    }
   ],
   "source": [
    "df_h1b_nyc.pw_1.describe()"
   ]
  },
  {
   "cell_type": "markdown",
   "metadata": {},
   "source": [
    "As seen in the summary above, the max is extremely large (616931700). This is most likely a mistake because the entry is \\$616 million. There are five salaries are over \\$500,000. For each of those cases, the salary is significantly different from the listed lca_case_wage_rate_to and lca_case_wage_rate_from fields. Below, I have filtered out those wages above \\$300,000. As we can see, many of these values seem way off. Out of the entries below, only two have wages that seem realistic based off of the wages_from and wages_to fields. We drop the outliers."
   ]
  },
  {
   "cell_type": "code",
   "execution_count": 15,
   "metadata": {
    "collapsed": false
   },
   "outputs": [
    {
     "data": {
      "text/html": [
       "<div>\n",
       "<table border=\"1\" class=\"dataframe\">\n",
       "  <thead>\n",
       "    <tr style=\"text-align: right;\">\n",
       "      <th></th>\n",
       "      <th>pw_1</th>\n",
       "      <th>lca_case_wage_rate_from</th>\n",
       "      <th>lca_case_wage_rate_to</th>\n",
       "    </tr>\n",
       "  </thead>\n",
       "  <tbody>\n",
       "    <tr>\n",
       "      <th>33359</th>\n",
       "      <td>890000.0</td>\n",
       "      <td>100001.0</td>\n",
       "      <td>NaN</td>\n",
       "    </tr>\n",
       "    <tr>\n",
       "      <th>66488</th>\n",
       "      <td>565997.0</td>\n",
       "      <td>60000.0</td>\n",
       "      <td>NaN</td>\n",
       "    </tr>\n",
       "    <tr>\n",
       "      <th>104536</th>\n",
       "      <td>336343.0</td>\n",
       "      <td>40000.0</td>\n",
       "      <td>NaN</td>\n",
       "    </tr>\n",
       "    <tr>\n",
       "      <th>115844</th>\n",
       "      <td>378900.0</td>\n",
       "      <td>624000.0</td>\n",
       "      <td>NaN</td>\n",
       "    </tr>\n",
       "    <tr>\n",
       "      <th>166920</th>\n",
       "      <td>767100.0</td>\n",
       "      <td>93500.0</td>\n",
       "      <td>140000.0</td>\n",
       "    </tr>\n",
       "    <tr>\n",
       "      <th>254903</th>\n",
       "      <td>378900.0</td>\n",
       "      <td>624000.0</td>\n",
       "      <td>NaN</td>\n",
       "    </tr>\n",
       "    <tr>\n",
       "      <th>279967</th>\n",
       "      <td>616931693.0</td>\n",
       "      <td>65000.0</td>\n",
       "      <td>NaN</td>\n",
       "    </tr>\n",
       "    <tr>\n",
       "      <th>342136</th>\n",
       "      <td>6468800.0</td>\n",
       "      <td>76320.0</td>\n",
       "      <td>NaN</td>\n",
       "    </tr>\n",
       "    <tr>\n",
       "      <th>426706</th>\n",
       "      <td>360000.0</td>\n",
       "      <td>29567.0</td>\n",
       "      <td>NaN</td>\n",
       "    </tr>\n",
       "  </tbody>\n",
       "</table>\n",
       "</div>"
      ],
      "text/plain": [
       "               pw_1  lca_case_wage_rate_from  lca_case_wage_rate_to\n",
       "33359      890000.0                 100001.0                    NaN\n",
       "66488      565997.0                  60000.0                    NaN\n",
       "104536     336343.0                  40000.0                    NaN\n",
       "115844     378900.0                 624000.0                    NaN\n",
       "166920     767100.0                  93500.0               140000.0\n",
       "254903     378900.0                 624000.0                    NaN\n",
       "279967  616931693.0                  65000.0                    NaN\n",
       "342136    6468800.0                  76320.0                    NaN\n",
       "426706     360000.0                  29567.0                    NaN"
      ]
     },
     "execution_count": 15,
     "metadata": {},
     "output_type": "execute_result"
    }
   ],
   "source": [
    "df_h1b_nyc[df_h1b_nyc.pw_1>300000][['pw_1','lca_case_wage_rate_from','lca_case_wage_rate_to']]"
   ]
  },
  {
   "cell_type": "code",
   "execution_count": 16,
   "metadata": {
    "collapsed": false
   },
   "outputs": [],
   "source": [
    "df_h1b_nyc = df_h1b_nyc.drop([33359, 66488, 104536, 166920, 279967, 342136,426706])"
   ]
  },
  {
   "cell_type": "code",
   "execution_count": 17,
   "metadata": {
    "collapsed": false
   },
   "outputs": [
    {
     "name": "stdout",
     "output_type": "stream",
     "text": [
      "There are 36836 visa applications for jobs located in NYC in this dataset.\n"
     ]
    }
   ],
   "source": [
    "print('There are {:.0f} visa applications for jobs located in NYC in this dataset.'.format(df_h1b_nyc.shape[0]))"
   ]
  },
  {
   "cell_type": "markdown",
   "metadata": {},
   "source": [
    "We also need to check to make sure none of the wage values are missing. We use isnull() to check this and then drop the entries that are null."
   ]
  },
  {
   "cell_type": "code",
   "execution_count": 18,
   "metadata": {
    "collapsed": false
   },
   "outputs": [
    {
     "data": {
      "text/plain": [
       "60049    NaN\n",
       "275446   NaN\n",
       "396316   NaN\n",
       "Name: pw_1, dtype: float64"
      ]
     },
     "execution_count": 18,
     "metadata": {},
     "output_type": "execute_result"
    }
   ],
   "source": [
    "df_h1b_nyc[df_h1b_nyc.pw_1.isnull()].pw_1"
   ]
  },
  {
   "cell_type": "code",
   "execution_count": 19,
   "metadata": {
    "collapsed": true
   },
   "outputs": [],
   "source": [
    "df_h1b_nyc = df_h1b_nyc.drop([60049,396316,275446])"
   ]
  },
  {
   "cell_type": "markdown",
   "metadata": {},
   "source": [
    "Now, we want to make sure the average wages are computed for full time jobs. The data contains many entries where the wage rate is specified hourly. For some of the hourly wages, pw_1 is specified as a yearly amount, but for some the pw_1 field is specified as an hourly rate. This is seen by looking at the pw_unit_1 field. Before averaging we need to make sure that these fields are corrected to annual wages. A small function was created to modify these entries."
   ]
  },
  {
   "cell_type": "code",
   "execution_count": 20,
   "metadata": {
    "collapsed": false
   },
   "outputs": [
    {
     "name": "stdout",
     "output_type": "stream",
     "text": [
      "There are 34988 visa applications for full-time jobs located in NYC in this dataset.\n"
     ]
    }
   ],
   "source": [
    "df_h1b_nyc_ft = df_h1b_nyc[df_h1b_nyc.full_time_pos=='Y']\n",
    "print('There are {:.0f} visa applications for full-time jobs located in NYC in this dataset.'.format(df_h1b_nyc_ft.shape[0]))\n"
   ]
  },
  {
   "cell_type": "code",
   "execution_count": 21,
   "metadata": {
    "collapsed": false
   },
   "outputs": [
    {
     "data": {
      "text/plain": [
       "Year     33364\n",
       "Hour      1598\n",
       "Week        13\n",
       "Month       13\n",
       "Name: pw_unit_1, dtype: int64"
      ]
     },
     "execution_count": 21,
     "metadata": {},
     "output_type": "execute_result"
    }
   ],
   "source": [
    "df_h1b_nyc_ft.pw_unit_1.value_counts()"
   ]
  },
  {
   "cell_type": "code",
   "execution_count": 22,
   "metadata": {
    "collapsed": true
   },
   "outputs": [],
   "source": [
    "def fix_wages(dataframe, thresh_week, thresh_month, thresh_hour):\n",
    "    '''\n",
    "    dataframe: the Pandas DataFrame whose values will be modified\n",
    "    thresh_: are the weekly, monthly, and hourly thresholds that are set to ensure the \n",
    "    wages aren't modified if they actually correspond to the correct annual wages.\n",
    "    Some pw_unit values are stated as one of the categories that isn't yearly, but then\n",
    "    an annual salary is given. We don't want to modify those entries so we use thresholds. \n",
    "    '''\n",
    "    for x,y in dataframe.iterrows():\n",
    "        if y.pw_unit_1 == 'Week' and y.pw_1 < thresh_week:\n",
    "            dataframe.loc[x,'pw_1'] = y.pw_1*52\n",
    "        elif y.pw_unit_1 == 'Month' and y.pw_1 < thresh_month:\n",
    "            dataframe.loc[x,'pw_1'] = y.pw_1*12\n",
    "        elif y.pw_unit_1 == 'Hour' and y.pw_1 < thresh_hour:\n",
    "            dataframe.loc[x,'pw_1'] = y.pw_1*40*52"
   ]
  },
  {
   "cell_type": "code",
   "execution_count": 23,
   "metadata": {
    "collapsed": false,
    "scrolled": true
   },
   "outputs": [
    {
     "name": "stderr",
     "output_type": "stream",
     "text": [
      "/Users/Tom/anaconda2/envs/insight_env/lib/python2.7/site-packages/pandas/core/indexing.py:477: SettingWithCopyWarning: \n",
      "A value is trying to be set on a copy of a slice from a DataFrame.\n",
      "Try using .loc[row_indexer,col_indexer] = value instead\n",
      "\n",
      "See the caveats in the documentation: http://pandas.pydata.org/pandas-docs/stable/indexing.html#indexing-view-versus-copy\n",
      "  self.obj[item] = s\n"
     ]
    }
   ],
   "source": [
    "fix_wages(df_h1b_nyc_ft,6000,35000,500)"
   ]
  },
  {
   "cell_type": "markdown",
   "metadata": {},
   "source": [
    "After fixing the wages, we can compute the mean and the std using describe(). A histogram of wages is shown below"
   ]
  },
  {
   "cell_type": "code",
   "execution_count": 24,
   "metadata": {
    "collapsed": false
   },
   "outputs": [
    {
     "data": {
      "text/plain": [
       "count     34988.000000\n",
       "mean      76304.798820\n",
       "std       29660.846709\n",
       "min       16424.000000\n",
       "25%       56826.000000\n",
       "50%       68557.000000\n",
       "75%       91104.000000\n",
       "max      378900.000000\n",
       "Name: pw_1, dtype: float64"
      ]
     },
     "execution_count": 24,
     "metadata": {},
     "output_type": "execute_result"
    }
   ],
   "source": [
    "df_h1b_nyc_ft.pw_1.describe()"
   ]
  },
  {
   "cell_type": "code",
   "execution_count": 25,
   "metadata": {
    "collapsed": false
   },
   "outputs": [
    {
     "data": {
      "text/plain": [
       "<matplotlib.axes._subplots.AxesSubplot at 0x10e806cd0>"
      ]
     },
     "execution_count": 25,
     "metadata": {},
     "output_type": "execute_result"
    },
    {
     "data": {
      "image/png": "[encoded data removed]",
      "text/plain": [
       "<matplotlib.figure.Figure at 0x10e806750>"
      ]
     },
     "metadata": {},
     "output_type": "display_data"
    }
   ],
   "source": [
    "df_h1b_nyc_ft.pw_1.hist(bins=20,figsize=(8,8))"
   ]
  },
  {
   "cell_type": "markdown",
   "metadata": {},
   "source": [
    "Note: The results above show the average wage of the visa applications. Some visa applications are for multiple workers. If we want an average over all the number of workers covered by the H-1B visa applications submitted, we can use a weighted average, which is shown below."
   ]
  },
  {
   "cell_type": "code",
   "execution_count": 26,
   "metadata": {
    "collapsed": false
   },
   "outputs": [
    {
     "data": {
      "text/plain": [
       "74592.827375026507"
      ]
     },
     "execution_count": 26,
     "metadata": {},
     "output_type": "execute_result"
    }
   ],
   "source": [
    "sum(df_h1b_nyc_ft.pw_1*df_h1b_nyc_ft.total_workers)/sum(df_h1b_nyc_ft.total_workers)"
   ]
  },
  {
   "cell_type": "markdown",
   "metadata": {},
   "source": [
    "As we can see, this average changes varies slightly from the average computed earlier."
   ]
  },
  {
   "cell_type": "markdown",
   "metadata": {},
   "source": [
    "#### Mountain View"
   ]
  },
  {
   "cell_type": "markdown",
   "metadata": {},
   "source": [
    "Now we need to do the same thing for Mountain View. Let's first make a list of CA cities appearing in the data set and then look for strings that could stand for Mountain View"
   ]
  },
  {
   "cell_type": "code",
   "execution_count": 27,
   "metadata": {
    "collapsed": true
   },
   "outputs": [],
   "source": [
    "ca_cities_list = sorted(df_h1b[df_h1b.lca_case_employer_state=='CA'].lca_case_workloc1_city.unique())"
   ]
  },
  {
   "cell_type": "code",
   "execution_count": 28,
   "metadata": {
    "collapsed": true
   },
   "outputs": [],
   "source": [
    "mv_names = ['MOUNATIN VIEW',\n",
    "            'MOUNTAIN VIE',\n",
    "            'MOUNTAIN VIEW',\n",
    "            'MOUNTAIN VIEW,',\n",
    "            'MOUNTAIN VIEW, CA 94043',\n",
    "            'MOUNTAIN VIEW\\\\',\n",
    "            'MOUNTAINVIEW',\n",
    "            'MOUNTIAN VIEW']\n",
    "df_h1b_mv = df_h1b[map(lambda x: x[1].lca_case_workloc1_city in mv_names\n",
    "                        or x[1].lca_case_workloc2_state in mv_names,\n",
    "                        df_h1b.iterrows())]"
   ]
  },
  {
   "cell_type": "code",
   "execution_count": 29,
   "metadata": {
    "collapsed": false
   },
   "outputs": [
    {
     "data": {
      "text/plain": [
       "count      5169.000000\n",
       "mean      96610.934922\n",
       "std       28642.186040\n",
       "min          22.370000\n",
       "25%       80746.000000\n",
       "50%       98675.000000\n",
       "75%      114421.000000\n",
       "max      987675.000000\n",
       "Name: pw_1, dtype: float64"
      ]
     },
     "execution_count": 29,
     "metadata": {},
     "output_type": "execute_result"
    }
   ],
   "source": [
    "df_h1b_mv.pw_1.describe()"
   ]
  },
  {
   "cell_type": "code",
   "execution_count": 30,
   "metadata": {
    "collapsed": false
   },
   "outputs": [
    {
     "data": {
      "text/html": [
       "<div>\n",
       "<table border=\"1\" class=\"dataframe\">\n",
       "  <thead>\n",
       "    <tr style=\"text-align: right;\">\n",
       "      <th></th>\n",
       "      <th>pw_1</th>\n",
       "      <th>lca_case_wage_rate_from</th>\n",
       "      <th>lca_case_wage_rate_to</th>\n",
       "    </tr>\n",
       "  </thead>\n",
       "  <tbody>\n",
       "    <tr>\n",
       "      <th>123031</th>\n",
       "      <td>987675.0</td>\n",
       "      <td>105000.0</td>\n",
       "      <td>NaN</td>\n",
       "    </tr>\n",
       "  </tbody>\n",
       "</table>\n",
       "</div>"
      ],
      "text/plain": [
       "            pw_1  lca_case_wage_rate_from  lca_case_wage_rate_to\n",
       "123031  987675.0                 105000.0                    NaN"
      ]
     },
     "execution_count": 30,
     "metadata": {},
     "output_type": "execute_result"
    }
   ],
   "source": [
    "df_h1b_mv[df_h1b_mv.pw_1>700000][['pw_1','lca_case_wage_rate_from','lca_case_wage_rate_to']]"
   ]
  },
  {
   "cell_type": "markdown",
   "metadata": {},
   "source": [
    "Out of the entries for Mountain View, most look like they are valid wages except the one shown above. We remove this since it is likely a typo. If the salary was around 98700, it would make sense given the lca_case_wage_from entry."
   ]
  },
  {
   "cell_type": "code",
   "execution_count": 31,
   "metadata": {
    "collapsed": true
   },
   "outputs": [],
   "source": [
    "df_h1b_mv = df_h1b_mv.drop([123031])"
   ]
  },
  {
   "cell_type": "code",
   "execution_count": 32,
   "metadata": {
    "collapsed": false
   },
   "outputs": [
    {
     "name": "stdout",
     "output_type": "stream",
     "text": [
      "There are 5168 visa applications for jobs located in Mountain View in this dataset.\n"
     ]
    }
   ],
   "source": [
    "print('There are {:.0f} visa applications for jobs located in Mountain View in this dataset.'.format(df_h1b_mv.shape[0]))"
   ]
  },
  {
   "cell_type": "code",
   "execution_count": 33,
   "metadata": {
    "collapsed": false
   },
   "outputs": [
    {
     "data": {
      "text/plain": [
       "count      5168.000000\n",
       "mean      96438.515404\n",
       "std       25823.192846\n",
       "min          22.370000\n",
       "25%       80746.000000\n",
       "50%       98675.000000\n",
       "75%      114421.000000\n",
       "max      224536.000000\n",
       "Name: pw_1, dtype: float64"
      ]
     },
     "execution_count": 33,
     "metadata": {},
     "output_type": "execute_result"
    }
   ],
   "source": [
    "df_h1b_mv.pw_1.describe()"
   ]
  },
  {
   "cell_type": "markdown",
   "metadata": {},
   "source": [
    "Now, we want to make sure the average wages are computed for full time jobs like we did for the NYC data."
   ]
  },
  {
   "cell_type": "code",
   "execution_count": 34,
   "metadata": {
    "collapsed": false
   },
   "outputs": [
    {
     "name": "stdout",
     "output_type": "stream",
     "text": [
      "There are 5142 visa applications for full-time jobs located in Mountain View in this dataset.\n"
     ]
    }
   ],
   "source": [
    "df_h1b_mv_ft = df_h1b_mv[df_h1b_mv.full_time_pos=='Y']\n",
    "print('There are {:.0f} visa applications for full-time jobs located in Mountain View in this dataset.'.format(df_h1b_mv_ft.shape[0]))\n"
   ]
  },
  {
   "cell_type": "code",
   "execution_count": 35,
   "metadata": {
    "collapsed": false
   },
   "outputs": [
    {
     "data": {
      "text/plain": [
       "Year     5089\n",
       "Hour       51\n",
       "Month       2\n",
       "Name: pw_unit_1, dtype: int64"
      ]
     },
     "execution_count": 35,
     "metadata": {},
     "output_type": "execute_result"
    }
   ],
   "source": [
    "df_h1b_mv_ft.pw_unit_1.value_counts()"
   ]
  },
  {
   "cell_type": "code",
   "execution_count": 36,
   "metadata": {
    "collapsed": true
   },
   "outputs": [],
   "source": [
    "fix_wages(df_h1b_mv_ft, 6000, 35000, 500)"
   ]
  },
  {
   "cell_type": "markdown",
   "metadata": {},
   "source": [
    "After fixing the wages, we can compute the mean and the std using describe(). A histogram of wages is shown below"
   ]
  },
  {
   "cell_type": "code",
   "execution_count": 37,
   "metadata": {
    "collapsed": false
   },
   "outputs": [
    {
     "data": {
      "text/plain": [
       "count      5142.000000\n",
       "mean      97711.014197\n",
       "std       23255.652140\n",
       "min       23192.000000\n",
       "25%       80746.000000\n",
       "50%       98675.000000\n",
       "75%      114421.000000\n",
       "max      224536.000000\n",
       "Name: pw_1, dtype: float64"
      ]
     },
     "execution_count": 37,
     "metadata": {},
     "output_type": "execute_result"
    }
   ],
   "source": [
    "df_h1b_mv_ft.pw_1.describe()"
   ]
  },
  {
   "cell_type": "code",
   "execution_count": 38,
   "metadata": {
    "collapsed": false
   },
   "outputs": [
    {
     "data": {
      "text/plain": [
       "<matplotlib.axes._subplots.AxesSubplot at 0x11c08b910>"
      ]
     },
     "execution_count": 38,
     "metadata": {},
     "output_type": "execute_result"
    },
    {
     "data": {
      "image/png": "[encoded data removed]",
      "text/plain": [
       "<matplotlib.figure.Figure at 0x11ac1c250>"
      ]
     },
     "metadata": {},
     "output_type": "display_data"
    }
   ],
   "source": [
    "df_h1b_mv_ft.pw_1.hist(bins=20,figsize=(8,8))"
   ]
  },
  {
   "cell_type": "markdown",
   "metadata": {},
   "source": [
    "Once again, we want to see how the average changes if we take into account the fact that visa applications can represent multiple workers."
   ]
  },
  {
   "cell_type": "code",
   "execution_count": 39,
   "metadata": {
    "collapsed": false
   },
   "outputs": [
    {
     "data": {
      "text/plain": [
       "96677.25448350067"
      ]
     },
     "execution_count": 39,
     "metadata": {},
     "output_type": "execute_result"
    }
   ],
   "source": [
    "sum(df_h1b_mv_ft.pw_1*df_h1b_mv_ft.total_workers)/sum(df_h1b_mv_ft.total_workers)"
   ]
  },
  {
   "cell_type": "markdown",
   "metadata": {},
   "source": [
    "#### Statistical Significance"
   ]
  },
  {
   "cell_type": "markdown",
   "metadata": {},
   "source": [
    "Let's recall the summary for the annual wages in NYC and Mountain View"
   ]
  },
  {
   "cell_type": "code",
   "execution_count": 40,
   "metadata": {
    "collapsed": false
   },
   "outputs": [
    {
     "data": {
      "text/plain": [
       "count     34988.000000\n",
       "mean      76304.798820\n",
       "std       29660.846709\n",
       "min       16424.000000\n",
       "25%       56826.000000\n",
       "50%       68557.000000\n",
       "75%       91104.000000\n",
       "max      378900.000000\n",
       "Name: pw_1, dtype: float64"
      ]
     },
     "execution_count": 40,
     "metadata": {},
     "output_type": "execute_result"
    }
   ],
   "source": [
    "df_h1b_nyc_ft.pw_1.describe()"
   ]
  },
  {
   "cell_type": "code",
   "execution_count": 41,
   "metadata": {
    "collapsed": false
   },
   "outputs": [
    {
     "data": {
      "text/plain": [
       "count      5142.000000\n",
       "mean      97711.014197\n",
       "std       23255.652140\n",
       "min       23192.000000\n",
       "25%       80746.000000\n",
       "50%       98675.000000\n",
       "75%      114421.000000\n",
       "max      224536.000000\n",
       "Name: pw_1, dtype: float64"
      ]
     },
     "execution_count": 41,
     "metadata": {},
     "output_type": "execute_result"
    }
   ],
   "source": [
    "df_h1b_mv_ft.pw_1.describe()"
   ]
  },
  {
   "cell_type": "markdown",
   "metadata": {},
   "source": [
    "We want to determine if the average wages in the two areas are statistically different. To do this, we run a T-test using the Scipy stats ttest_ind function. We make sure that the variances of each of the wages are not assumed to be equal. The T-test measures whether the average value differs significantly across the two samples. The null hypothesis being tested is that the two cities average wages are the same. "
   ]
  },
  {
   "cell_type": "code",
   "execution_count": 42,
   "metadata": {
    "collapsed": false
   },
   "outputs": [
    {
     "data": {
      "text/plain": [
       "Ttest_indResult(statistic=-59.296585270744501, pvalue=0.0)"
      ]
     },
     "execution_count": 42,
     "metadata": {},
     "output_type": "execute_result"
    }
   ],
   "source": [
    "stats.ttest_ind(df_h1b_nyc_ft.pw_1,df_h1b_mv_ft.pw_1, equal_var = False)"
   ]
  },
  {
   "cell_type": "markdown",
   "metadata": {},
   "source": [
    "<div class=\"alert alert-block alert-success\">\n",
    "<h4>\n",
    "The T-test returned a pvalue of 0 which means that we can reject the null hypothesis that the two sample means are the same. \n",
    "<br><br>\n",
    "This means that the average wages in NYC and Mountain View are statistically different.\n",
    "<br><br>\n",
    "The differences in average wages between the two cities ia most likely the result of many factors.\n",
    "<br><br>\n",
    "The two cities are well known in different industries. NYC is home to many Media, Finance/Investment Firms, and Advertising companies, whereas Mountain View is home to many Tech companies. The jobs types are not unique to each city, but the proportions of jobs available in each industry are different. The average pay and number of jobs in each of these industries is not the same. It's possible that the pay difference between the different industries and the difference in percentage of jobs in each industry explain the difference in average wages between NYC and Mountain View. \n",
    "<br><br>\n",
    "I have read multiple reports that the cost of living (all included) is higher in Mountain View than NYC, but more conclusive evidence would be needed to verify these statements. A higher cost of living would justify a higher salary, but there may be more to it. A proper investigation into the types of jobs in these two locations for the H-1B visa would yield some insight into this difference. \n",
    "<br><br>\n",
    "As shown below, approximately 1% of the H-1B visa wage applications are stated with hourly rates in Mountain View, compared to ~4.6% in NYC. More investigation would have to be done to see how the average wages for jobs that pay hourly compare to salaried jobs. Typically professional jobs pay a yearly salary, so I suspect that the hourly rate jobs pay less on average each year. If this is true, then the difference average wages might partially be accounted for due to the larger percentage of hourly jobs in NYC.\n",
    "</h4>\n",
    "</div>"
   ]
  },
  {
   "cell_type": "code",
   "execution_count": 43,
   "metadata": {
    "collapsed": false
   },
   "outputs": [
    {
     "data": {
      "text/plain": [
       "0.9918319719953326"
      ]
     },
     "execution_count": 43,
     "metadata": {},
     "output_type": "execute_result"
    }
   ],
   "source": [
    "df_h1b_mv.pw_unit_1.value_counts()\n",
    "100.0*df_h1b_mv_ft[df_h1b_mv_ft.pw_unit_1=='Hour'].shape[0]/(df_h1b_mv_ft.shape[0])"
   ]
  },
  {
   "cell_type": "code",
   "execution_count": 44,
   "metadata": {
    "collapsed": false
   },
   "outputs": [
    {
     "data": {
      "text/plain": [
       "4.567280210357837"
      ]
     },
     "execution_count": 44,
     "metadata": {},
     "output_type": "execute_result"
    }
   ],
   "source": [
    "100.0*df_h1b_nyc_ft[df_h1b_nyc_ft.pw_unit_1=='Hour'].shape[0]/(df_h1b_nyc_ft.shape[0])"
   ]
  },
  {
   "cell_type": "markdown",
   "metadata": {},
   "source": [
    "### What is the relationship between the total number of H-1B visas requested by an employer and the average wages proposed? Is the relationship statistically significant? What might explain this relationship?"
   ]
  },
  {
   "cell_type": "markdown",
   "metadata": {},
   "source": [
    "To answer these questions, we need to make sure to match employers properly. This could probably be effectively done using a fuzzy word matching, but since this is a short exploration I will resort to a very quick and dirty approach. Looking at the number of unique company strings and unique addresses, we might think that a good place to start would be to combine companies with the same addresses. However, there is a potential that multiple companies share any single address. Additionally the address strings could appear as slightly different strings making the combination difficult to automate. The company name strings suffer from some of the same issues. "
   ]
  },
  {
   "cell_type": "code",
   "execution_count": 45,
   "metadata": {
    "collapsed": false
   },
   "outputs": [
    {
     "data": {
      "text/plain": [
       "0.8421052631578947"
      ]
     },
     "execution_count": 45,
     "metadata": {},
     "output_type": "execute_result"
    }
   ],
   "source": [
    "difflib.SequenceMatcher(None, 'BARCLAYS CAPITAL', 'BARCLAYS CAPITAL, INC.').ratio()"
   ]
  },
  {
   "cell_type": "code",
   "execution_count": 46,
   "metadata": {
    "collapsed": true
   },
   "outputs": [],
   "source": [
    "def create_employer_dict(list_employers,threshold):\n",
    "    '''\n",
    "    This function takes in a list of employers and a threshold\n",
    "    It produces a list of companies that are unique (have text similarity scores below the threshold)\n",
    "    and a dictionary that maps similar companies to ones in the unique list\n",
    "    '''\n",
    "    unique_employers = ['BARCLAYS CAPITAL']\n",
    "    employer_dict = {'BARCLAYS CAPITAL':'BARCLAYS CAPITAL'}\n",
    "    for x in list_employers:\n",
    "        scores = [difflib.SequenceMatcher(None, x, z).ratio() for z in unique_employers]\n",
    "        max_index = np.argmax(scores)\n",
    "        max_score = scores[max_index]\n",
    "        if max_score < threshold:\n",
    "            # The company is not similar to any others\n",
    "            unique_employers.append(x)\n",
    "            employer_dict[x] = x\n",
    "        else:\n",
    "            # The company is similar to one that already exists in the list\n",
    "            max_index = np.argmax(scores)\n",
    "            employer_dict[x] = unique_employers[max_index]\n",
    "    return employer_dict, unique_employers"
   ]
  },
  {
   "cell_type": "code",
   "execution_count": 87,
   "metadata": {
    "collapsed": false
   },
   "outputs": [],
   "source": [
    "employer_dict, unique_employers = create_employer_dict(df_h1b_nyc_ft.lca_case_employer_name.unique(),0.75)"
   ]
  },
  {
   "cell_type": "code",
   "execution_count": 84,
   "metadata": {
    "collapsed": false
   },
   "outputs": [
    {
     "data": {
      "text/plain": [
       "8314"
      ]
     },
     "execution_count": 84,
     "metadata": {},
     "output_type": "execute_result"
    }
   ],
   "source": [
    "len(test_dict.keys())"
   ]
  },
  {
   "cell_type": "code",
   "execution_count": 75,
   "metadata": {
    "collapsed": false
   },
   "outputs": [
    {
     "data": {
      "text/plain": [
       "8313"
      ]
     },
     "execution_count": 75,
     "metadata": {},
     "output_type": "execute_result"
    }
   ],
   "source": [
    "df_h1b_nyc_ft.lca_case_employer_name.nunique()"
   ]
  },
  {
   "cell_type": "code",
   "execution_count": 77,
   "metadata": {
    "collapsed": false
   },
   "outputs": [
    {
     "data": {
      "text/plain": [
       "lca_case_employer_address\n",
       "1 ALEXANDER PLACE                                                         [SCO FAMILY OF SERVICES]\n",
       "1 AUSTIN AVE.,                                                    [SYNERZY SOFTWARE SOLUTIONS INC]\n",
       "1 AVON PLAZA                                                                 [AVON PRODUCTS, INC.]\n",
       "1 BATTERY PARK PLAZA, 3RD FLOOR                                   [WORLD EDUCATION SERVICES, INC.]\n",
       "1 BLUE HILL PLAZA                                                    [HUDSON TECHNOLOGIES COMPANY]\n",
       "1 BRIDGE PLAZA                                                            [COESYS SOLUTIONS, INC.]\n",
       "1 BRIDGE PLAZA NORTH                             [SRNL INTERNATIONAL, INC, SRNL INTERNATIONAL INC]\n",
       "1 BRIDGE PLAZA NOTRH                                                      [SRNL INTERNATIONAL INC]\n",
       "1 BROOKDALE PLAZA                                 [BROOKDALE UNIVERSITY HOSPITAL & MEDICAL CENTER]\n",
       "1 BRYANT PARK, 38TH FLOOR                                           [MARATHON ASSET MANAGEMENT LP]\n",
       "1 BUNGTOWN ROAD                                                    [COLD SPRING HARBOR LABORATORY]\n",
       "1 CAPE MAY STREET                                                            [E-LO SPORTSWEAR LLC]\n",
       "1 CHANNEL DRIVE                                                [QUINTESSENCE COMPUTER CORPORATION]\n",
       "1 CIT DRIVE                                                                   [CIT GROUP (NJ) LLC]\n",
       "1 CORPORATE PLACE SOUTH                                            [MARLABS, INC, SYNECHRON, INC.]\n",
       "1 COURTHOUSE LANE                                                      [ABRIDGE INFO SYSTEMS INC.]\n",
       "1 CRAGWOOD RD                                                             [NEO TECH SOLUTIONS,INC]\n",
       "1 E UWCHLAN AVE                                                          [TECHWAVE CONSULTING INC]\n",
       "1 EAST 33RD ST                                                             [JEM INTERNATIONL INC.]\n",
       "1 EAST 52ND STREET                                               [LONDON FORFAITING AMERICAS INC.]\n",
       "1 EAST 57TH STREET                                             [LOUIS VUITTON NORTH AMERICA, INC.]\n",
       "1 EAST 70TH STREET                                                          [THE FRICK COLLECTION]\n",
       "1 EXECUTIVE DRIVE                                                  [AVESTA COMPUTER SERVICES LTD.]\n",
       "1 EXTRUSION DRIVE                                                            [DAVIS-STANDARD, LLC]\n",
       "1 FARR VIEW DR.                                                                  [E-ASPIRE IT LLC]\n",
       "1 FARR VIEW DR., SUITE 5D                                                       [E-ASPIRE IT, LLC]\n",
       "1 FARR VIEW DRIVE                                [E-ASPIRE IT LLC, VIVID IT CORPORATION, CLOUDR...\n",
       "1 FARRVIEW DRIVE                                                  [SAMSON SOFTWARE SOLUTIONS, INC]\n",
       "1 GLEN STREET                                                                    [FINCH PAPER LLC]\n",
       "1 HACKER WAY                                                                      [FACEBOOK, INC.]\n",
       "                                                                       ...                        \n",
       "THE ROBERT MOUAWAD CAMPUS                                 [GEMOLOGICAL INSTITUTE OF AMERICA (GIA)]\n",
       "THE ROBERT MOUAWAD CAMPUS, 5345 ARMADA DRIVE              [GEMOLOGICAL INSTITUTE OF AMERICA (GIA)]\n",
       "THE ROBERT MOUAWAD CAMPUS, 5355 ARMADA DRIVE              [GEMOLOGICAL INSTITUTE OF AMERICA (GIA)]\n",
       "THE WORLD POLICY INSTITUTE                                         [SERVAL POLITICAL ANALYSIS LLC]\n",
       "THREE RAVINIA DRIVE                                                   [SIX CONTINENTS HOTELS INC.]\n",
       "THREE WORLD FINANCIAL CENTER                     [BROOKFIELD INVESTMENT MANAGEMENT INC., RBC CA...\n",
       "TIMES SQUARE TOWER                               [O'MELVENY &AMP; MYERS LLP, O'MELVENY & MYERS ...\n",
       "TWO EAST 55TH STREET AT FIFTH AVENUE                                      [THE ST. REGIS NEW YORK]\n",
       "TWO HARRISON STREET, SUITE 400                         [M. ARTHUR GENSLER, JR. & ASSOCIATES, INC.]\n",
       "TWO HARTFORD SQUARE WEST                                                     [BIOINFO SYSTEMS LLC]\n",
       "TWO PARK AVENUE                                         [AMERICAN SOCIETY OF MECHANICAL ENGINEERS]\n",
       "TWO PENN PLAZA                                                             [FOREST ELECTRIC CORP.]\n",
       "TWO PENNSYLVANIA PLAZA                           [DYNAMIC URBAN TECHNOLOGIES INC., DYNAMIC URBA...\n",
       "TWO PENNSYLVANIA PLAZA, 10TH FL                                 [DYNAMIC URBAN TECHNOLOGIES, INC.]\n",
       "TWO PNC PLAZA, SECOND FLOOR                               [THE PNC FINANCIAL SERVICES GROUP, INC.]\n",
       "TWO UNION AVENUE                                 [STATE UNIVERSITY OF NEW YORK EMPIRE STATE COL...\n",
       "TWO WORLD FINANCIAL CENTER                                          [NOMURA AMERICA SERVICES, LLC]\n",
       "UB IMMIGRATION SERVICES                                  [STATE UNIVERSITY OF NEW YORK AT BUFFALO]\n",
       "UNIVERSITY AT BUFFALO                                     [RESEARCH FOUNDATION OF SUNY AT BUFFALO]\n",
       "WALL STREET PLAZA                                                             [QBE AMERICAS, INC.]\n",
       "WALL STREET PLAZA, 88 PINE STREET                                             [QBE AMERICAS, INC.]\n",
       "WATERFRONT CORPORATE CENTER                      [MERCER (US) INC., MARSH & MCLENNAN COMPANIES,...\n",
       "WATERFRONT CORPORATE CENTER, 121 RIVER STREET    [MARSH USA INC., MARSH & MCLENNAN AGENCY LLC, ...\n",
       "WHITE & CASE LLP                                                                [WHITE & CASE LLP]\n",
       "WHITE &AMP; CASE LLP                                                        [WHITE &AMP; CASE LLP]\n",
       "WORLDWIDE PLAZA 309 WEST 49TH STREET             [NOMURA HOLDING AMERICA INC., NOMURA AMERICA S...\n",
       "WORLDWIDE PLAZA 309 WET 49TH STREET                                 [NOMURA AMERICA SERVICES, LLC]\n",
       "WORLDWIDE PLAZA, 309 WEST 49TH STREET                               [NOMURA AMERICA SERVICES, LLC]\n",
       "WORLDWIDE PLAZA,309 WEST 49TH STREET                                 [NOMURA HOLDING AMERICA INC.]\n",
       "YALE UNIVERSITY/ OISS                                                            [YALE UNIVERSITY]\n",
       "Name: lca_case_employer_name, dtype: object"
      ]
     },
     "execution_count": 77,
     "metadata": {},
     "output_type": "execute_result"
    }
   ],
   "source": [
    "df_h1b_nyc_ft.groupby(['lca_case_employer_address'])['lca_case_employer_name'].unique()"
   ]
  },
  {
   "cell_type": "code",
   "execution_count": 88,
   "metadata": {
    "collapsed": false
   },
   "outputs": [
    {
     "data": {
      "text/plain": [
       "<pandas.core.groupby.SeriesGroupBy object at 0x11ce281d0>"
      ]
     },
     "execution_count": 88,
     "metadata": {},
     "output_type": "execute_result"
    }
   ],
   "source": [
    "df_h1b_nyc_ft.groupby(['lca_case_employer_name']).lca_case_employer_name"
   ]
  },
  {
   "cell_type": "code",
   "execution_count": 71,
   "metadata": {
    "collapsed": false
   },
   "outputs": [
    {
     "data": {
      "text/plain": [
       "lca_case_employer_name\n",
       "\"I HAVE A DREAM\" FOUNDATION                             1.0\n",
       "1 WAY SOLUTIONS, INC.                                   2.0\n",
       "1-0 CAPITAL, LLC                                        2.0\n",
       "1010DATA SERVICES LLC                                   4.0\n",
       "110 ARCHITECT, P.C.                                     1.0\n",
       "1100 ARCHITECT PC                                       3.0\n",
       "116 WEST HOUSTON STREET LLC                             1.0\n",
       "1199 NATIONAL BENEFIT FUND FOR HEALTH AND HUMAN SE      2.0\n",
       "1199 SEIU UNITED HEALTHCARE WORKERS EAST                1.0\n",
       "12K APPAREL NY LLC                                      1.0\n",
       "139 MEDICAL FACILITY, P.C.                              1.0\n",
       "13TH STREET ENTERTAINMENT, LLC                          1.0\n",
       "151 BLEECKER LLC                                        1.0\n",
       "16TH STREET MEDICAL MANAGEMENT, LLC                     1.0\n",
       "1ST AVENUE MACHINE USA, INC.                            1.0\n",
       "1STDIBS.COM, INC.                                       5.0\n",
       "2 SAAB CONSTRUCTION INC                                 2.0\n",
       "2 SAAB CONSTRUCTION INC.                                2.0\n",
       "2 X 4 INC.                                              1.0\n",
       "212 LAFAYETTE ASSOCIATES, LLC                           2.0\n",
       "212 LAFAYETTE ASSOCIATES, LLC CAFE SELECT               1.0\n",
       "212 LAFAYETTE ASSOCIATES, LLC D/B/A CAFE SELECT         1.0\n",
       "21ST CENTURY UNITED MEDIA CO. LTD.                      3.0\n",
       "23 INNOVATIONS INC.                                     1.0\n",
       "24/7 MEDIA, INC.                                        2.0\n",
       "28 WEST 44TH RESTAURANT LLC                             1.0\n",
       "289 HOSPITALITY LLC                                     1.0\n",
       "2U, INC.                                                2.0\n",
       "3 STONE DENTAL PLLC                                     1.0\n",
       "3.1 PHILLIP LIM LLC                                     1.0\n",
       "                                                      ...  \n",
       "ZHONGYIN APPAREL LLC                                    5.0\n",
       "ZIFF BROTHERS INVESTMENTS, LLC                         15.0\n",
       "ZIFF DAVIS, LLC                                         2.0\n",
       "ZIGNAGE LLC                                             3.0\n",
       "ZILLION TECHNOLOGIES INC.                               5.0\n",
       "ZILLOW, INC.                                            3.0\n",
       "ZILSOL LLC                                              2.0\n",
       "ZIMMER GUNSUL FRASCA ARCHITECTS LLP                     1.0\n",
       "ZIP AVIATION LLC                                        1.0\n",
       "ZOA, LTD                                                2.0\n",
       "ZOCDOC, INC.                                           11.0\n",
       "ZODIAC SOLUTIONS, INC. [DUNS# 96-958-5384]              4.0\n",
       "ZODIAC-SOLUTIONS, INC.                                  1.0\n",
       "ZOLA BOOKS INC.                                         1.0\n",
       "ZOLA INC.                                               1.0\n",
       "ZOLFO COOPER                                            2.0\n",
       "ZOLFO COOPER LLC                                        1.0\n",
       "ZONI LANGUAGE CENTER INC                                2.0\n",
       "ZONI LANGUAGE CENTERS                                   2.0\n",
       "ZONING AND CODE CONSULTING GROUP LLC                    2.0\n",
       "ZOUND ELECTRONICS LLC                                   3.0\n",
       "ZS ASSOCIATES INC.                                      1.0\n",
       "ZS ASSOCIATES, INC.                                   107.0\n",
       "ZUKATRON CORP                                           2.0\n",
       "ZURICH ALTERNATIVE ASSET MANAGAMENT, LLC                1.0\n",
       "ZURICH AMERICAN INSURANCE COMPANY                       2.0\n",
       "ZUSE, INC.                                              1.0\n",
       "ZUVEN TECHNOLOGIES INC                                  1.0\n",
       "ZYLOG SYSTEMS LIMITED                                  15.0\n",
       "ZYLOG SYSTEMS LTD.                                      4.0\n",
       "Name: total_workers, dtype: float64"
      ]
     },
     "execution_count": 71,
     "metadata": {},
     "output_type": "execute_result"
    }
   ],
   "source": [
    "df_h1b_nyc_ft.groupby(['lca_case_employer_name'])['total_workers'].sum()"
   ]
  },
  {
   "cell_type": "code",
   "execution_count": 55,
   "metadata": {
    "collapsed": false
   },
   "outputs": [
    {
     "data": {
      "text/plain": [
       "lca_case_employer_name\n",
       "\"I HAVE A DREAM\" FOUNDATION                           107245.000000\n",
       "1 WAY SOLUTIONS, INC.                                  60362.000000\n",
       "1-0 CAPITAL, LLC                                       67205.000000\n",
       "1010DATA SERVICES LLC                                  73918.250000\n",
       "110 ARCHITECT, P.C.                                    49358.000000\n",
       "1100 ARCHITECT PC                                      48720.666667\n",
       "116 WEST HOUSTON STREET LLC                            40872.000000\n",
       "1199 NATIONAL BENEFIT FUND FOR HEALTH AND HUMAN SE     99000.000000\n",
       "1199 SEIU UNITED HEALTHCARE WORKERS EAST               82472.000000\n",
       "12K APPAREL NY LLC                                     52000.000000\n",
       "139 MEDICAL FACILITY, P.C.                             78811.000000\n",
       "13TH STREET ENTERTAINMENT, LLC                         59738.000000\n",
       "151 BLEECKER LLC                                       40082.000000\n",
       "16TH STREET MEDICAL MANAGEMENT, LLC                    65174.200000\n",
       "1ST AVENUE MACHINE USA, INC.                           37128.000000\n",
       "1STDIBS.COM, INC.                                      76564.600000\n",
       "2 SAAB CONSTRUCTION INC                                49150.000000\n",
       "2 SAAB CONSTRUCTION INC.                               49150.000000\n",
       "2 X 4 INC.                                             51688.000000\n",
       "212 LAFAYETTE ASSOCIATES, LLC                          42452.800000\n",
       "212 LAFAYETTE ASSOCIATES, LLC CAFE SELECT              76148.800000\n",
       "212 LAFAYETTE ASSOCIATES, LLC D/B/A CAFE SELECT        58635.200000\n",
       "21ST CENTURY UNITED MEDIA CO. LTD.                     44824.000000\n",
       "23 INNOVATIONS INC.                                    61027.000000\n",
       "24/7 MEDIA, INC.                                       67018.000000\n",
       "28 WEST 44TH RESTAURANT LLC                            76149.000000\n",
       "289 HOSPITALITY LLC                                    70866.000000\n",
       "2U, INC.                                              125122.500000\n",
       "3 STONE DENTAL PLLC                                   139339.000000\n",
       "3.1 PHILLIP LIM LLC                                    35714.000000\n",
       "                                                          ...      \n",
       "ZHONGYIN APPAREL LLC                                  101456.000000\n",
       "ZIFF BROTHERS INVESTMENTS, LLC                        112053.866667\n",
       "ZIFF DAVIS, LLC                                        71458.500000\n",
       "ZIGNAGE LLC                                            47632.000000\n",
       "ZILLION TECHNOLOGIES INC.                              60362.000000\n",
       "ZILLOW, INC.                                          102953.000000\n",
       "ZILSOL LLC                                             60362.000000\n",
       "ZIMMER GUNSUL FRASCA ARCHITECTS LLP                    37128.000000\n",
       "ZIP AVIATION LLC                                       71406.400000\n",
       "ZOA, LTD                                               32198.000000\n",
       "ZOCDOC, INC.                                           88788.090909\n",
       "ZODIAC SOLUTIONS, INC. [DUNS# 96-958-5384]             74126.000000\n",
       "ZODIAC-SOLUTIONS, INC.                                 91109.000000\n",
       "ZOLA BOOKS INC.                                       122179.000000\n",
       "ZOLA INC.                                              92851.000000\n",
       "ZOLFO COOPER                                           85280.000000\n",
       "ZOLFO COOPER LLC                                      109554.000000\n",
       "ZONI LANGUAGE CENTER INC                               24648.000000\n",
       "ZONI LANGUAGE CENTERS                                  29317.500000\n",
       "ZONING AND CODE CONSULTING GROUP LLC                   41100.800000\n",
       "ZOUND ELECTRONICS LLC                                  89890.666667\n",
       "ZS ASSOCIATES INC.                                     96096.000000\n",
       "ZS ASSOCIATES, INC.                                    73541.000000\n",
       "ZUKATRON CORP                                          71510.000000\n",
       "ZURICH ALTERNATIVE ASSET MANAGAMENT, LLC              154690.000000\n",
       "ZURICH AMERICAN INSURANCE COMPANY                      93881.000000\n",
       "ZUSE, INC.                                             73445.000000\n",
       "ZUVEN TECHNOLOGIES INC                                 76773.000000\n",
       "ZYLOG SYSTEMS LIMITED                                  61964.800000\n",
       "ZYLOG SYSTEMS LTD.                                     65551.250000\n",
       "Name: pw_1, dtype: float64"
      ]
     },
     "execution_count": 55,
     "metadata": {},
     "output_type": "execute_result"
    }
   ],
   "source": [
    "df_h1b_nyc_ft.groupby(['lca_case_employer_name'])['pw_1'].mean()"
   ]
  },
  {
   "cell_type": "markdown",
   "metadata": {},
   "source": [
    "In order to have more time for the exploring other questions about the dataset, I decided to skip this investigation after only a short period of time to look at more interesting questions. I began running a text-similarity method on the list of employers, but it was running too slow to get results. With the list of unique employers and the dict to translate employer names to unique employer names, the wages and total workers could be compared by doing a join on the unique employer name. Then the relationship could be investigated using correlation tests. "
   ]
  },
  {
   "cell_type": "markdown",
   "metadata": {},
   "source": [
    "## Section 2: Brainstorming\n",
    "\n",
    "### What interesting questions might this dataset address?"
   ]
  },
  {
   "cell_type": "markdown",
   "metadata": {},
   "source": [
    "In this section, I brainstorm interesting questions that one might have while investigating this dataset.\n",
    "\n",
    "<div>\n",
    "<ol>\n",
    "\n",
    "<li> Are H-1B visa decisions (rate of acceptances) affected by the industry of the job? In other words, do all industries have the same approval/rejection rates?\n",
    "\n",
    "<li> How does the wage rate for H-1B visa applications compare to the wage rate for the same job held by a citizen?\n",
    "\n",
    "<li> What are the most common types of jobs approved in H-1B visa applications?\n",
    "\n",
    "<li> Do all regions of the United States have the same approval percentage for visa applications? If not, why might the approval rates vary regionally?\n",
    "\n",
    "<li> Are visa applications more likely to be approved if there are fewer applications in that job industry?\n",
    "\n",
    "<li> What can be learnt by investigating the time length scale of an application?\n",
    "\n",
    "<li> How do permanent visa applications (dataset available via Enigma) differ from H-1B visas?\n",
    "</ol>\n",
    "\n",
    "</div>"
   ]
  },
  {
   "cell_type": "markdown",
   "metadata": {},
   "source": [
    "### Scoping these questions\n",
    "I describe the steps, methodology, and level of effort that would be required to answer each question. The numbered questions above are scoped below.\n",
    "\n",
    "<div>\n",
    "\n",
    "<ol>\n",
    "\n",
    "<li> We first would need to group H-1B visa applications by industry. Most of the effort for answering this question lies in how to organize the job types appearing in the data into well defined industries. Given how much the text varies in the employer name and address fields alone, this task might take a substantial amount of effort before the desired results could be extracted. Upon further investigation into the dataset, the NAICS code contains information about the industry of the job, so this might be significantly easier. After categorizing by industry, we can compute the approval/rejection rate of each industry to compare the industry rates. After computing the rates, we would want to test if the differences in averages across the industries are statistically significant using ANOVA testing. \n",
    "\n",
    "<li> Step one for tackling this problem would be to categorize the information in this dataset into job types. Job types can also be extracted from a portion of the NAICS code. We would need to locate a good database containing salary information for all of the job categories we use on the H-1B data. The level of effort required to answer this question depends greatly on the state of the alternative dataset that contains salary information. The comparison after getting both datasets to the stage where averages can be extracted would be straightforward. The method of comparison would be to run statistical significance tests between the H-1B visa data and the salary dataset.\n",
    "\n",
    "This could also be interesting because it could provide some insight into understanding the effect of H-1B visa employment on salaries in general. \n",
    "\n",
    "<li> This is a very straightforward question that would be very simple to answer after job categories are constructed. A value_counts could be applied to the column of data that contains the category. The level of effort would be the level of effort required to categorize jobs (which may or may not be a lengthy task). \n",
    "\n",
    "<li> The first step would be to add an additional feature to the data that encorporates a region. The task of adding regional information should be easy since the dataset already contains a field that captures the state. Assigning states to regions could be automated depending on the desired granularity of the regions. If we define regions as subsets of states, it will be more difficult because then we have to try and use the address field which is messier and requires more careful consideration to group. Starting with regions made out of states would be relatively easy to carry out.\n",
    "\n",
    "<li> Once again, the dataset would need to be grouped by industry. After grouping by industry, we could compute the number of job applications in each industry. Pairing these with the number of approvals, we could compute if there is a statistically significant relationship between the number of approvals and the number of job applications. \n",
    "\n",
    "<li> This is an open-ended question that mostly intiates a further investigation into the submission and decision date for the applications in this data. The level of effort is \n",
    "\n",
    "</ol>\n",
    "\n",
    "</div>"
   ]
  },
  {
   "cell_type": "markdown",
   "metadata": {},
   "source": [
    "## Section 3: Exploration\n",
    "\n",
    "In this section, I wanted to address a question that requires using the data to build a predictive model. For this portion, I will explore if this dataset can be used to build a predictive model to identify whether or not a visa application will be accepted ('CERTIFIED') or rejected ('DENIED'). Once a well posed question has been identified, it is important skill to be able to use the data to build a model. For this investigation, I will use the ML capabilities of sklearn to build models. To accommodate the short time scale of this investigation, I start with a very simplified model containing features from the dataset that can be easily engineered. In a real application, the subset selection would be done in a more rigorous and systematic manner. Additionally, I will only explore the use of a logistic regression model. In practice multiple models would be tested to see which performs the best. To select the hyperparameters, I will use cross-validation to pick the optimum hyperparameters given a particular scoring metric. The scoring metric will be altered to see which gives the desired results. For this prediction problem, we would like to keep the number of predictions that predict an application will be accepted when it is actually rejected (false positive rate) low. "
   ]
  },
  {
   "cell_type": "markdown",
   "metadata": {},
   "source": [
    "Let's start by focusing on full time employment for positions located in the United States only. We are going to build a model that predicts whether the application is 'Certified' or 'Denied'. We can create a DataFrame satisfying these requirements. "
   ]
  },
  {
   "cell_type": "code",
   "execution_count": 47,
   "metadata": {
    "collapsed": true
   },
   "outputs": [],
   "source": [
    "states = ['AL', 'AK', 'AZ', 'AR', 'CA', 'CO', 'CT', 'DC', 'DE', 'FL', \n",
    "          'GA', 'HI', 'ID', 'IL', 'IN', 'IA', 'KS', 'KY', 'LA', 'ME', \n",
    "          'MD', 'MA', 'MI', 'MN', 'MS', 'MO', 'MT', 'NE', 'NV', 'NH', \n",
    "          'NJ', 'NM', 'NY', 'NC', 'ND', 'OH', 'OK', 'OR', 'PA', 'RI', \n",
    "          'SC', 'SD', 'TN', 'TX', 'UT', 'VT', 'VA', 'WA', 'WV', 'WI', 'WY']"
   ]
  },
  {
   "cell_type": "code",
   "execution_count": 48,
   "metadata": {
    "collapsed": false
   },
   "outputs": [],
   "source": [
    "df_h1b_ft_US = df_h1b[map(lambda x: x[1].lca_case_workloc1_state in states\n",
    "                          and x[1].full_time_pos=='Y'\n",
    "                          and (x[1].status=='CERTIFIED' or x[1].status=='DENIED'),\n",
    "                          df_h1b.iterrows())]\n",
    "\n",
    "df_h1b_ft_US = df_h1b_ft_US.drop([33052, 44675, 45556, 48967, 51744, 53898, 135911, 188139, 225285, 332969, 366595])"
   ]
  },
  {
   "cell_type": "markdown",
   "metadata": {},
   "source": [
    "The drop is included to remove those data points with impossible NAICS codes. Instead of attempting to convert hourly salaries again, we will drop them here to simplify this problem. Additionally, we remove the values with a salary of 0/nan and the entries that do not have a 6-digit NAICS code."
   ]
  },
  {
   "cell_type": "code",
   "execution_count": 49,
   "metadata": {
    "collapsed": true
   },
   "outputs": [],
   "source": [
    "df_h1b_ft_US = df_h1b_ft_US.fillna(0).drop([47419, 80529])"
   ]
  },
  {
   "cell_type": "code",
   "execution_count": 50,
   "metadata": {
    "collapsed": true
   },
   "outputs": [],
   "source": [
    "df_h1b_ft_US_Y = df_h1b_ft_US[df_h1b_ft_US.pw_unit_1=='Year']"
   ]
  },
  {
   "cell_type": "code",
   "execution_count": 51,
   "metadata": {
    "collapsed": false
   },
   "outputs": [],
   "source": [
    "incorrect_naics_indices = df_h1b_ft_US_Y.lca_case_naics_code[map(lambda x: x!=8,\n",
    "                                                                 map(lambda x: len(str(x)),\n",
    "                                                                     df_h1b_ft_US_Y.lca_case_naics_code))].index"
   ]
  },
  {
   "cell_type": "code",
   "execution_count": 52,
   "metadata": {
    "collapsed": true
   },
   "outputs": [],
   "source": [
    "df_h1b_ft_US_Y = df_h1b_ft_US_Y.drop(incorrect_naics_indices)"
   ]
  },
  {
   "cell_type": "code",
   "execution_count": 53,
   "metadata": {
    "collapsed": false
   },
   "outputs": [
    {
     "data": {
      "text/plain": [
       "count    3.727210e+05\n",
       "mean     7.538676e+04\n",
       "std      1.812588e+06\n",
       "min      0.000000e+00\n",
       "25%      5.539900e+04\n",
       "50%      6.433400e+04\n",
       "75%      7.974700e+04\n",
       "max      8.201323e+08\n",
       "Name: pw_1, dtype: float64"
      ]
     },
     "execution_count": 53,
     "metadata": {},
     "output_type": "execute_result"
    }
   ],
   "source": [
    "df_h1b_ft_US_Y.pw_1.describe()"
   ]
  },
  {
   "cell_type": "markdown",
   "metadata": {},
   "source": [
    "The following comes directly from the 2017 NAICS Manual. \"The first two digits of the code designate the sector, the third digit designates the subsector, the fourth digit designates the industry group, the fifth digit designates the NAICS industry, and the sixth digit designates the national industry.\" We will use the first two digits of the NAICS code which represents the sector and the fourth digit that designates the industry group."
   ]
  },
  {
   "cell_type": "markdown",
   "metadata": {},
   "source": [
    "We are going to build a preliminary model using the sector, subsector, and industry as determined from the NAICS code. Additionally, we will use the state of the job and the annual salary."
   ]
  },
  {
   "cell_type": "code",
   "execution_count": 54,
   "metadata": {
    "collapsed": false
   },
   "outputs": [],
   "source": [
    "df_sector = pd.DataFrame(map(lambda x: int(str(x)[0:2]),df_h1b_ft_US_Y.lca_case_naics_code),\n",
    "                         index=df_h1b_ft_US_Y.index,\n",
    "                         columns=['sector'])\n",
    "df_subsector = pd.DataFrame(map(lambda x: int(str(x)[2]),df_h1b_ft_US_Y.lca_case_naics_code),\n",
    "                            index=df_h1b_ft_US_Y.index,\n",
    "                            columns=['subsector'])\n",
    "df_industry = pd.DataFrame(map(lambda x: int(str(x)[5]),df_h1b_ft_US_Y.lca_case_naics_code),\n",
    "                           index=df_h1b_ft_US_Y.index,\n",
    "                           columns=['industry'])\n",
    "df_decision_days = pd.DataFrame((pd.to_datetime(df_h1b_ft_US_Y.decision_date) - \n",
    "                                 pd.to_datetime(df_h1b_ft_US_Y.lca_case_submit)).astype('timedelta64[D]'),\n",
    "                                columns=['employment_length_days'])\n",
    "df_employment_length_days = pd.DataFrame((pd.to_datetime(df_h1b_ft_US_Y.lca_case_employment_end_date) - \n",
    "                                          pd.to_datetime(df_h1b_ft_US_Y.lca_case_employment_start_date)).astype('timedelta64[D]'),\n",
    "                                         columns=['employment_length_days'])"
   ]
  },
  {
   "cell_type": "markdown",
   "metadata": {},
   "source": [
    "We will use the state where the job is located as one of the features. The states will be one hot encoded using get_dummies()."
   ]
  },
  {
   "cell_type": "code",
   "execution_count": 55,
   "metadata": {
    "collapsed": false,
    "scrolled": true
   },
   "outputs": [],
   "source": [
    "df_states = pd.get_dummies(df_h1b_ft_US_Y.lca_case_workloc1_state)"
   ]
  },
  {
   "cell_type": "code",
   "execution_count": 56,
   "metadata": {
    "collapsed": true
   },
   "outputs": [],
   "source": [
    "df_outcomes = np.array(pd.get_dummies(df_h1b_ft_US_Y.status).CERTIFIED)"
   ]
  },
  {
   "cell_type": "code",
   "execution_count": 57,
   "metadata": {
    "collapsed": false
   },
   "outputs": [],
   "source": [
    "df_model = pd.concat([df_h1b_ft_US_Y.pw_1,df_sector,df_subsector,df_industry,df_decision_days,df_employment_length_days,df_states],axis=1)"
   ]
  },
  {
   "cell_type": "markdown",
   "metadata": {},
   "source": [
    "As we see below, there is a large class imbalance. Only 1.9% of the visa applications are denied. If we built a model that only predicted that a visa would be approved, it would have a high accuracy. There are many methods for dealing with class imbalances we observe. For this investigation, I will be attempting to use a logistic regression model. The logistic regression model in sklearn has a class_weight parameter to adjust the weights inversely proportional to the class frequencies of the input data. This approach is one of the simplest (and by no means the best). A more proper treatment would involve over/under-sampling techniques as well as more involved class balance techniques like SMOTE (Synthetic Minority Over-sampling Technique). If there is additional time at the end, we can try under-sampling techniques."
   ]
  },
  {
   "cell_type": "code",
   "execution_count": 60,
   "metadata": {
    "collapsed": false
   },
   "outputs": [
    {
     "data": {
      "text/plain": [
       "98.071748036735258"
      ]
     },
     "execution_count": 60,
     "metadata": {},
     "output_type": "execute_result"
    }
   ],
   "source": [
    "100.0*df_outcomes.sum()/len(df_outcomes)"
   ]
  },
  {
   "cell_type": "code",
   "execution_count": 61,
   "metadata": {
    "collapsed": false
   },
   "outputs": [
    {
     "data": {
      "text/plain": [
       "1.9282519632647477"
      ]
     },
     "execution_count": 61,
     "metadata": {},
     "output_type": "execute_result"
    }
   ],
   "source": [
    "100.0*(1-df_outcomes).sum()/len(df_outcomes)"
   ]
  },
  {
   "cell_type": "markdown",
   "metadata": {},
   "source": [
    "We can use the standard train-test split method from sklearn's model_selection. Making sure to keep the proportions of each class the same between the test and training sample with the stratify argument"
   ]
  },
  {
   "cell_type": "code",
   "execution_count": 62,
   "metadata": {
    "collapsed": true
   },
   "outputs": [],
   "source": [
    "X_train, X_test, y_train, y_test = train_test_split(df_model, df_outcomes, test_size = 0.2, stratify=df_outcomes)"
   ]
  },
  {
   "cell_type": "code",
   "execution_count": 63,
   "metadata": {
    "collapsed": true
   },
   "outputs": [],
   "source": [
    "def plot_roc(model):\n",
    "    # Compute ROC curve and ROC area for each class\n",
    "    fpr, tpr, _ = roc_curve(y_test, model.decision_function(X_test))\n",
    "    roc_auc = auc(fpr, tpr)\n",
    "    plt.plot(fpr, tpr, color='darkorange',\n",
    "             lw=2, label='ROC curve (area = %0.2f)' % roc_auc)\n",
    "    plt.plot([0, 1], [0, 1], color='navy', lw=2, linestyle='--')\n",
    "    plt.xlim([0.0, 1.0])\n",
    "    plt.ylim([0.0, 1.05])\n",
    "    plt.xlabel('False Positive Rate')\n",
    "    plt.ylabel('True Positive Rate')\n",
    "    plt.title('Receiver operating characteristic example')\n",
    "    plt.legend(loc=\"lower right\")"
   ]
  },
  {
   "cell_type": "markdown",
   "metadata": {},
   "source": [
    "Now, we want to train a logistic regression model and optimize the model hyperparameter C. We will do this using sklearn's GridSearchCV multiple times with various scoring metrics."
   ]
  },
  {
   "cell_type": "code",
   "execution_count": 64,
   "metadata": {
    "collapsed": true
   },
   "outputs": [],
   "source": [
    "param_grid = {'C':[0.00001,0.0001,0.001, 0.01, 0.1, 1, 10, 100, 1000]}\n",
    "skf = StratifiedKFold(n_splits=10, shuffle=True)"
   ]
  },
  {
   "cell_type": "code",
   "execution_count": 65,
   "metadata": {
    "collapsed": false
   },
   "outputs": [
    {
     "name": "stdout",
     "output_type": "stream",
     "text": [
      "Grid Search using Accuracy as Scoring metric\n",
      "Best Parameters:  {'C': 1e-05}\n",
      "Best cross-validation score: 0.746\n",
      "AUC score on test set: 0.613\n",
      "Test set accuracy:0.744\n"
     ]
    },
    {
     "data": {
      "image/png": "[encoded data removed]",
      "text/plain": [
       "<matplotlib.figure.Figure at 0x11cd12450>"
      ]
     },
     "metadata": {},
     "output_type": "display_data"
    }
   ],
   "source": [
    "grid = GridSearchCV(LogisticRegression(class_weight='balanced'),param_grid=param_grid,\n",
    "                    cv=skf.get_n_splits(X_train, y_train))\n",
    "grid.fit(X_train,y_train)\n",
    "print('Grid Search using Accuracy as Scoring metric')\n",
    "print 'Best Parameters: ',grid.best_params_\n",
    "print('Best cross-validation score: {:.3f}'.format(grid.best_score_))\n",
    "print('AUC score on test set: {:.3f}'.format(roc_auc_score(y_test,grid.decision_function(X_test))))\n",
    "print('Test set accuracy:{:.3f}'.format(grid.score(X_test,y_test)))\n",
    "plot_roc(grid)"
   ]
  },
  {
   "cell_type": "code",
   "execution_count": 66,
   "metadata": {
    "collapsed": false
   },
   "outputs": [
    {
     "name": "stdout",
     "output_type": "stream",
     "text": [
      "Grid Search using Accuracy as Scoring metric\n",
      "Best Parameters:  {'C': 0.0001}\n",
      "Best cross-validation score: 0.736\n",
      "AUC score on test set: 0.608\n",
      "Test set accuracy:0.739\n"
     ]
    },
    {
     "data": {
      "image/png": "[encoded data removed]",
      "text/plain": [
       "<matplotlib.figure.Figure at 0x11de238d0>"
      ]
     },
     "metadata": {},
     "output_type": "display_data"
    }
   ],
   "source": [
    "grid = GridSearchCV(LogisticRegression(class_weight='balanced',penalty='l1'),param_grid=param_grid,\n",
    "                    cv=skf.get_n_splits(X_train, y_train))\n",
    "grid.fit(X_train,y_train)\n",
    "print('Grid Search using Accuracy as Scoring metric')\n",
    "print 'Best Parameters: ',grid.best_params_\n",
    "print('Best cross-validation score: {:.3f}'.format(grid.best_score_))\n",
    "print('AUC score on test set: {:.3f}'.format(roc_auc_score(y_test,grid.decision_function(X_test))))\n",
    "print('Test set accuracy:{:.3f}'.format(grid.score(X_test,y_test)))\n",
    "plot_roc(grid)"
   ]
  },
  {
   "cell_type": "code",
   "execution_count": 67,
   "metadata": {
    "collapsed": false
   },
   "outputs": [
    {
     "name": "stdout",
     "output_type": "stream",
     "text": [
      "Grid Search using Precision as Scoring metric\n",
      "Best Parameters:  {'C': 1000}\n",
      "Best cross-validation score: 0.985\n",
      "AUC score on test set: 0.615\n",
      "Test set accuracy:0.985\n"
     ]
    },
    {
     "data": {
      "image/png": "[encoded data removed]",
      "text/plain": [
       "<matplotlib.figure.Figure at 0x11cd203d0>"
      ]
     },
     "metadata": {},
     "output_type": "display_data"
    }
   ],
   "source": [
    "grid = GridSearchCV(LogisticRegression(class_weight='balanced'),param_grid=param_grid,\n",
    "                    cv=skf.get_n_splits(X_train, y_train), scoring='precision')\n",
    "grid.fit(X_train,y_train)\n",
    "print('Grid Search using Precision as Scoring metric')\n",
    "print 'Best Parameters: ',grid.best_params_\n",
    "print('Best cross-validation score: {:.3f}'.format(grid.best_score_))\n",
    "print('AUC score on test set: {:.3f}'.format(roc_auc_score(y_test,grid.decision_function(X_test))))\n",
    "print('Test set accuracy:{:.3f}'.format(grid.score(X_test,y_test)))\n",
    "plot_roc(grid)"
   ]
  },
  {
   "cell_type": "code",
   "execution_count": 68,
   "metadata": {
    "collapsed": false
   },
   "outputs": [
    {
     "name": "stdout",
     "output_type": "stream",
     "text": [
      "Grid Search using Recall as Scoring metric\n",
      "Best Parameters:  {'C': 1e-05}\n",
      "Best cross-validation score: 0.752\n",
      "AUC score on test set: 0.613\n",
      "Test set accuracy:0.751\n"
     ]
    },
    {
     "data": {
      "image/png": "[encoded data removed]",
      "text/plain": [
       "<matplotlib.figure.Figure at 0x11c7f90d0>"
      ]
     },
     "metadata": {},
     "output_type": "display_data"
    }
   ],
   "source": [
    "grid = GridSearchCV(LogisticRegression(class_weight='balanced'),param_grid=param_grid,\n",
    "                    cv=skf.get_n_splits(X_train, y_train), scoring='recall')\n",
    "grid.fit(X_train,y_train)\n",
    "print('Grid Search using Recall as Scoring metric')\n",
    "print 'Best Parameters: ',grid.best_params_\n",
    "print('Best cross-validation score: {:.3f}'.format(grid.best_score_))\n",
    "print('AUC score on test set: {:.3f}'.format(roc_auc_score(y_test,grid.decision_function(X_test))))\n",
    "print('Test set accuracy:{:.3f}'.format(grid.score(X_test,y_test)))\n",
    "plot_roc(grid)"
   ]
  },
  {
   "cell_type": "code",
   "execution_count": 69,
   "metadata": {
    "collapsed": false
   },
   "outputs": [
    {
     "data": {
      "text/plain": [
       "array([[  597,   840],\n",
       "       [18238, 54870]])"
      ]
     },
     "execution_count": 69,
     "metadata": {},
     "output_type": "execute_result"
    }
   ],
   "source": [
    "confusion_matrix(y_test,grid.predict(X_test))"
   ]
  },
  {
   "cell_type": "code",
   "execution_count": 70,
   "metadata": {
    "collapsed": false
   },
   "outputs": [
    {
     "data": {
      "text/plain": [
       "array([[  597,   840],\n",
       "       [18238, 54870]])"
      ]
     },
     "execution_count": 70,
     "metadata": {},
     "output_type": "execute_result"
    }
   ],
   "source": [
    "confusion_matrix(y_test,grid.predict(X_test))"
   ]
  },
  {
   "cell_type": "code",
   "execution_count": 71,
   "metadata": {
    "collapsed": true
   },
   "outputs": [],
   "source": [
    "def plot_confusion_matrix(cm, classes,\n",
    "                          normalize=False,\n",
    "                          title='Confusion matrix',\n",
    "                          cmap=plt.cm.Blues):\n",
    "    \"\"\"\n",
    "    This function prints and plots the confusion matrix.\n",
    "    Normalization can be applied by setting `normalize=True`.\n",
    "    \"\"\"\n",
    "    plt.imshow(cm, interpolation='nearest', cmap=cmap)\n",
    "    plt.title(title)\n",
    "    plt.colorbar()\n",
    "    tick_marks = np.arange(len(classes))\n",
    "    plt.xticks(tick_marks, classes, rotation=45)\n",
    "    plt.yticks(tick_marks, classes)\n",
    "\n",
    "    if normalize:\n",
    "        cm = cm.astype('float') / cm.sum(axis=1)[:, np.newaxis]\n",
    "        print(\"Normalized confusion matrix\")\n",
    "    else:\n",
    "        print('Confusion matrix, without normalization')\n",
    "\n",
    "    print(cm)\n",
    "\n",
    "    thresh = cm.max() / 2.\n",
    "    for i, j in itertools.product(range(cm.shape[0]), range(cm.shape[1])):\n",
    "        plt.text(j, i, cm[i, j],\n",
    "                 horizontalalignment=\"center\",\n",
    "                 color=\"white\" if cm[i, j] > thresh else \"black\")\n",
    "\n",
    "    plt.tight_layout()\n",
    "    plt.ylabel('True label')\n",
    "    plt.xlabel('Predicted label')"
   ]
  },
  {
   "cell_type": "code",
   "execution_count": 72,
   "metadata": {
    "collapsed": false
   },
   "outputs": [
    {
     "name": "stdout",
     "output_type": "stream",
     "text": [
      "Confusion matrix, without normalization\n",
      "[[  597   840]\n",
      " [18238 54870]]\n"
     ]
    },
    {
     "data": {
      "image/png": "[encoded data removed]",
      "text/plain": [
       "<matplotlib.figure.Figure at 0x11d3d4350>"
      ]
     },
     "metadata": {},
     "output_type": "display_data"
    }
   ],
   "source": [
    "plot_confusion_matrix(confusion_matrix(y_test,grid.predict(X_test)),classes=['Approved','Denied'])"
   ]
  },
  {
   "cell_type": "markdown",
   "metadata": {},
   "source": [
    "## Section 4: Wrap-Up\n",
    "\n",
    "In this final section, the results are briefly summarized. In this work, we investigated the H-1B visa data. First, a few questions were answered while exploring the state of the dataset. Throughout the exploration of the data, it became apparent that a lot of the values in various fields were incorrect, requiring a significant amount of cleaning. Some of the issues included missing values, values that didn't make sense for the field (salaries that are unrealistically high), typos in string fields for addresses/states, addresses used for names, etc. Given the limited time constraint, a logistic regression model was built using a small subset of features that could be quickly extracted from the dataset without too much cleaning. This exploration serves mainly as a step-by-step walkthrough of the model buidling process in Python. \n",
    "\n",
    "First, the dataset was simplified to visa applications for full-time jobs located in the United State. The entries with missing values or NAICS codes that do not conform to the standard were removed. Five features were engineered from the dataset: sector, subsector, industry, time between (in days), and . The sector, subsector, and industry were extracted from the NAICS code. The time between entries were determined from the corresponding dates in the original dataset.\n",
    "\n",
    "A large class imbalance was identified. Some of the typical procedures for handling this were discussed. However, a simple correction for class imbalance (adjusting model weights inversely proportional to the class frequencies of the input data) was chosen due to time constraints. It would have been better to include a range of different weight values to include in the GridSearchCV. A typical train-test split of the data was made (ensuring that the ratios of classes is maintained between the test and training sets). A logistic regression model was chosen. The 'C' hyperparameter (inverse of regularization strength) was optimized using a grid search with various scoring methods (accuracy,precision,recall). The type of regularization ('L1','L2') was also varied. ROC curves were plotted. The model hyperparameters for each scoring choice and regularization method were found. \n",
    "\n",
    "If I had more time for to investigate this dataset, I would spend significantly more time on the model building portion and try various other models. Additionally, I would do more feature engineering that time didn't permit."
   ]
  },
  {
   "cell_type": "code",
   "execution_count": null,
   "metadata": {
    "collapsed": true
   },
   "outputs": [],
   "source": []
  }
 ],
 "metadata": {
  "kernelspec": {
   "display_name": "Python 2",
   "language": "python",
   "name": "python2"
  },
  "language_info": {
   "codemirror_mode": {
    "name": "ipython",
    "version": 2
   },
   "file_extension": ".py",
   "mimetype": "text/x-python",
   "name": "python",
   "nbconvert_exporter": "python",
   "pygments_lexer": "ipython2",
   "version": "2.7.13"
  }
 },
 "nbformat": 4,
 "nbformat_minor": 2
}
